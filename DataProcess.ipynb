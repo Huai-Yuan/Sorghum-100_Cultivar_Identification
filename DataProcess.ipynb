{
 "cells": [
  {
   "cell_type": "code",
   "execution_count": 1,
   "metadata": {},
   "outputs": [],
   "source": [
    "import json\n",
    "import numpy as np\n",
    "import pandas as pd\n",
    "import matplotlib.pyplot as plt\n",
    "\n",
    "from packages.DataProcessing import split_dataset\n",
    "from packages.DataProcessing import tfrecords\n",
    "\n",
    "plt.style.use('_mpl-gallery')"
   ]
  },
  {
   "cell_type": "code",
   "execution_count": 2,
   "metadata": {},
   "outputs": [],
   "source": [
    "config = json.load(open(\"./conf/config.json\"))"
   ]
  },
  {
   "cell_type": "code",
   "execution_count": 3,
   "metadata": {},
   "outputs": [],
   "source": [
    "N_SPLITS = config[\"DataProcess\"][\"N_SPLITS\"]\n",
    "IMG_HEIGHT = config[\"DataProcess\"][\"IMG_HEIGHT\"]\n",
    "IMG_WIDTH = config[\"DataProcess\"][\"IMG_WIDTH\"]\n",
    "BATCH_SIZE = config[\"TrainCycle\"][\"BATCH_SIZE\"]\n",
    "PATIENCE = config[\"TrainCycle\"][\"PATIENCE\"]\n",
    "EPOCHS = config[\"TrainCycle\"][\"EPOCHS\"]\n",
    "INIT_LR = config[\"TrainCycle\"][\"INIT_LR\"]\n",
    "MAX_LR = config[\"TrainCycle\"][\"MAX_LR\"]"
   ]
  },
  {
   "cell_type": "code",
   "execution_count": 4,
   "metadata": {},
   "outputs": [],
   "source": [
    "# Data\n",
    "\n",
    "df = pd.read_csv('./input/train_cultivar_mapping.csv')\n",
    "df.dropna(inplace=True)"
   ]
  },
  {
   "cell_type": "code",
   "execution_count": 5,
   "metadata": {},
   "outputs": [
    {
     "data": {
      "text/plain": [
       "array(['./input/train_images/2017-06-16__12-24-20-930.png',\n",
       "       './input/train_images/2017-06-02__16-48-57-866.png',\n",
       "       './input/train_images/2017-06-12__13-18-07-707.png', ...,\n",
       "       './input/train_images/2017-06-28__10-20-32-417.png',\n",
       "       './input/train_images/2017-06-28__12-47-02-714.png',\n",
       "       './input/train_images/2017-06-04__13-12-56-053.png'], dtype='<U49')"
      ]
     },
     "execution_count": 5,
     "metadata": {},
     "output_type": "execute_result"
    }
   ],
   "source": [
    "images = df['image'].to_numpy()\n",
    "images = np.array(['./input/train_images/'+i for i in images])\n",
    "images"
   ]
  },
  {
   "cell_type": "code",
   "execution_count": 6,
   "metadata": {},
   "outputs": [
    {
     "data": {
      "text/plain": [
       "22193"
      ]
     },
     "execution_count": 6,
     "metadata": {},
     "output_type": "execute_result"
    }
   ],
   "source": [
    "num_images = len(images)\n",
    "num_images"
   ]
  },
  {
   "cell_type": "code",
   "execution_count": 7,
   "metadata": {},
   "outputs": [],
   "source": [
    "cultivars = df['cultivar'].to_numpy()"
   ]
  },
  {
   "cell_type": "code",
   "execution_count": 8,
   "metadata": {},
   "outputs": [
    {
     "data": {
      "text/plain": [
       "100"
      ]
     },
     "execution_count": 8,
     "metadata": {},
     "output_type": "execute_result"
    }
   ],
   "source": [
    "class_names, counts = np.unique(cultivars, return_counts=True)\n",
    "np.save(\"./output/class_names.npy\", class_names)\n",
    "num_classes = len(class_names)\n",
    "num_classes"
   ]
  },
  {
   "cell_type": "code",
   "execution_count": 9,
   "metadata": {},
   "outputs": [
    {
     "data": {
      "text/plain": [
       "array([73, 29, 99, ..., 18, 73, 58], dtype=int64)"
      ]
     },
     "execution_count": 9,
     "metadata": {},
     "output_type": "execute_result"
    }
   ],
   "source": [
    "def get_onehot(label):\n",
    "    one_hot = label == class_names\n",
    "    return np.argmax(one_hot)\n",
    "\n",
    "cultivars = np.array([get_onehot(cultivar) for cultivar in cultivars])\n",
    "cultivars"
   ]
  },
  {
   "cell_type": "code",
   "execution_count": 10,
   "metadata": {},
   "outputs": [
    {
     "data": {
      "image/png": "[encoded data removed]",
      "text/plain": [
       "<Figure size 1440x360 with 1 Axes>"
      ]
     },
     "metadata": {
      "needs_background": "light"
     },
     "output_type": "display_data"
    }
   ],
   "source": [
    "# EDA\n",
    "\n",
    "plt.subplots(figsize=(20, 5))\n",
    "plt.bar(np.arange(num_classes)+0.5, counts)\n",
    "plt.hlines(counts.min(), 0, num_classes, colors='r')\n",
    "plt.show()"
   ]
  },
  {
   "cell_type": "code",
   "execution_count": 11,
   "metadata": {},
   "outputs": [
    {
     "name": "stdout",
     "output_type": "stream",
     "text": [
      "train size: 16645\n",
      "valid size: 5548\n"
     ]
    }
   ],
   "source": [
    "# StratifiedKFold\n",
    "ds_splits = split_dataset(images, cultivars, N_SPLITS=N_SPLITS)"
   ]
  },
  {
   "cell_type": "code",
   "execution_count": 12,
   "metadata": {},
   "outputs": [],
   "source": [
    "train_target = ds_splits['train'][1]\n",
    "valid_target = ds_splits['valid'][1]\n",
    "np.save(\"./output/train_target.npy\", train_target)\n",
    "np.save(\"./output/valid_target.npy\", valid_target)"
   ]
  },
  {
   "cell_type": "code",
   "execution_count": 14,
   "metadata": {},
   "outputs": [
    {
     "name": "stderr",
     "output_type": "stream",
     "text": [
      "100%|██████████| 16645/16645 [33:20<00:00,  8.32it/s]  \n",
      "100%|██████████| 5548/5548 [10:56<00:00,  8.45it/s]\n"
     ]
    }
   ],
   "source": [
    "# Writing TFRecords\n",
    "records = tfrecords(IMG_HEIGHT, IMG_WIDTH)\n",
    "\n",
    "records.WriteTFRecords(ds_splits,\n",
    "                       path='./output/tfrecords')"
   ]
  }
 ],
 "metadata": {
  "interpreter": {
   "hash": "62b8e38797574a9de3c3f9bc79729bb88e3b9c6776c95587f79be5c56a9bdc90"
  },
  "kernelspec": {
   "display_name": "Python 3.10.2 64-bit",
   "language": "python",
   "name": "python3"
  },
  "language_info": {
   "codemirror_mode": {
    "name": "ipython",
    "version": 3
   },
   "file_extension": ".py",
   "mimetype": "text/x-python",
   "name": "python",
   "nbconvert_exporter": "python",
   "pygments_lexer": "ipython3",
   "version": "3.10.2"
  },
  "orig_nbformat": 4
 },
 "nbformat": 4,
 "nbformat_minor": 2
}
